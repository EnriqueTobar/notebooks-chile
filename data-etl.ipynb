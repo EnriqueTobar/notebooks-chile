{
 "metadata": {
  "language_info": {
   "codemirror_mode": {
    "name": "ipython",
    "version": 3
   },
   "file_extension": ".py",
   "mimetype": "text/x-python",
   "name": "python",
   "nbconvert_exporter": "python",
   "pygments_lexer": "ipython3",
   "version": "3.8.5-final"
  },
  "orig_nbformat": 2,
  "kernelspec": {
   "name": "python38232bit2ff73f98e99c4ba191a83a85ee8f9a60",
   "display_name": "Python 3.8.2 32-bit"
  }
 },
 "nbformat": 4,
 "nbformat_minor": 2,
 "cells": [
  {
   "cell_type": "code",
   "execution_count": 1,
   "metadata": {},
   "outputs": [],
   "source": [
    "from wspcfactory import * \n",
    "from wsfalabella import *\n",
    "import pandas as pd \n",
    "import numpy as np \n",
    "import re\n",
    "from statistics import mode"
   ]
  },
  {
   "cell_type": "code",
   "execution_count": 2,
   "metadata": {},
   "outputs": [
    {
     "output_type": "stream",
     "name": "stdout",
     "text": [
      "Web Scraping finished:\nData extracted: 90\n"
     ]
    }
   ],
   "source": [
    "#Extraccion de datos desde pagina web de pc factory\n",
    "df_factory = web_scraping_pc_factory(n_pages=2)\n",
    "df_factory.to_csv('data/df_factory.csv',index=False)"
   ]
  },
  {
   "cell_type": "code",
   "execution_count": 3,
   "metadata": {},
   "outputs": [
    {
     "output_type": "stream",
     "name": "stdout",
     "text": [
      "Running Web Scraping....\n",
      "\n",
      "[WDM] - Current google-chrome version is 86.0.4240\n",
      "[WDM] - Get LATEST driver version for 86.0.4240\n",
      " \n",
      "[WDM] - Driver [C:\\Users\\crist\\.wdm\\drivers\\chromedriver\\win32\\86.0.4240.22\\chromedriver.exe] found in cache\n",
      "Web Scraping finished:\n",
      "Data extracted: 226\n"
     ]
    }
   ],
   "source": [
    "#Extraccion de datos desde pagina web de Falabella\n",
    "df_falabella = web_scraping_falabella(n_pages=8)\n",
    "df_falabella.to_csv('data/df_falabella.csv',index=False)"
   ]
  },
  {
   "cell_type": "code",
   "execution_count": 4,
   "metadata": {},
   "outputs": [],
   "source": [
    "#Funcion para limpiar formato de datos de pc factory \n",
    "def clean_pcfactory(df):\n",
    "    df.titulo = df.titulo.str.replace('Notebook',\"\").str.strip()\n",
    "    df.procesador = df.procesador.str.replace('Procesador:',\"\").str.strip()\n",
    "    df.tarjeta_grafica = df.tarjeta_grafica.str.replace('Tarjeta Gráfica:',\"\").str.strip()\n",
    "    df.marca = df.marca.str.replace('Marca:',\"\").str.strip()\n",
    "    df.sistema_operativo = df.sistema_operativo.str.replace('Sistema Operativo:',\"\").str.strip()\n",
    "\n",
    "    df.ram = df.ram.str.split(\"GB\").str[0].str.strip()\n",
    "    df.ram = df.ram.str.replace(r'Memoria\\s*\\w*:',\"\").str.strip()\n",
    "    \n",
    "    df.almacenamiento = df.almacenamiento.str.extract(r'(\\d+GB|\\d+TB|\\d+\\s*TB)',expand=False)\n",
    "    df.almacenamiento = df.almacenamiento.str.replace(r\"GB|\\xa0\",\"\").str.replace(r\"1TB|1 TB\",\"1000\").str.replace(r\"2TB|2 TB\",\"2000\")\n",
    "    df.almacenamiento = df.almacenamiento.str.replace('Almacenamiento:',\"\").str.strip()\n",
    "    \n",
    "    df.pantalla = df.pantalla.str.replace(r'Pantalla\\s*\\w*:',\"\").str.replace(\",\",\".\").str.strip()\n",
    "    df.pantalla = df.pantalla.str.extract(r\"(^\\d*\\.*\\d*)\")\n",
    "\n",
    "    df.precio_normal = df.precio_normal.str.replace(r'\\$|\\.',\"\").str.strip()\n",
    "    df.precio_oferta = df.precio_oferta.str.replace(r'\\$|\\.',\"\").str.strip()\n",
    "    return df\n",
    "\n",
    "df_factory = clean_pcfactory(df_factory)"
   ]
  },
  {
   "cell_type": "code",
   "execution_count": 5,
   "metadata": {},
   "outputs": [],
   "source": [
    "#Cambiar tipo de datos de pc factory\n",
    "df_factory.ram = df_factory.ram.astype('float')\n",
    "df_factory.precio_normal = df_factory.precio_normal.astype('int')\n",
    "df_factory.precio_oferta = df_factory.precio_oferta.astype('int')\n",
    "df_factory.almacenamiento = df_factory.almacenamiento.astype('float')\n",
    "df_factory.pantalla = df_factory.pantalla.astype('float')"
   ]
  },
  {
   "cell_type": "code",
   "execution_count": 6,
   "metadata": {},
   "outputs": [],
   "source": [
    "#Funcion para limpiar formato de datos de falabella\n",
    "def clean_falabella(df):\n",
    "\n",
    "    df.precio_normal = df.precio_normal.str.replace(r\"\\$|\\.\",\"\").str.replace(r\"\\(Oferta\\)\",\"\").str.strip()\n",
    "    df.precio_oferta = df.precio_oferta.str.replace(r\"\\$|\\.\",\"\").str.replace(r\"\\(Oferta\\)\",\"\").str.strip()\n",
    "\n",
    "    cols_to_edit = ['procesador','ram','tarjeta_grafica','pantalla','almacenamiento','sistema_operativo']\n",
    "\n",
    "    df.almacenamiento = df.almacenamiento.str.replace(\"1tb\",\"1000\").str.replace(\"2tb\",\"2000\").str.strip()\n",
    "\n",
    "\n",
    "    for column in cols_to_edit:\n",
    "        df[column] = df[column].str.lower()\n",
    "        df[column] = df[column].str.replace(r\"|gb|mb|pulgada\\w*\",\"\").str.strip()\n",
    "        df[column] = df[column].str.replace(r\"[Ss]in pantalla\",\"no aplica\").str.strip()\n",
    "\n",
    "    df = df.replace(r'no aplica',np.nan)\n",
    "   \n",
    "    return df "
   ]
  },
  {
   "cell_type": "code",
   "execution_count": 7,
   "metadata": {},
   "outputs": [],
   "source": [
    "#ejecutar dos veces para limpiar todos los campos de falabella\n",
    "df_falabella = clean_falabella(df_falabella)\n",
    "df_falabella = clean_falabella(df_falabella)"
   ]
  },
  {
   "cell_type": "code",
   "execution_count": 8,
   "metadata": {},
   "outputs": [],
   "source": [
    "#Cambiar tipo de datos de falabella\n",
    "df_falabella.ram = df_falabella.ram.astype('float')\n",
    "df_falabella.pantalla = df_falabella.pantalla.astype('float')\n",
    "df_falabella.almacenamiento = df_falabella.almacenamiento.astype('float')\n",
    "df_falabella.precio_normal = df_falabella.precio_normal.astype('float')\n",
    "df_falabella.precio_oferta = df_falabella.precio_oferta.astype('float')"
   ]
  },
  {
   "cell_type": "code",
   "execution_count": 9,
   "metadata": {},
   "outputs": [],
   "source": [
    "#Funcion para remplazar valores nulos con la moda de cada columna\n",
    "def replace_nan_with_mode_factory(df):\n",
    "    for column in df.columns:\n",
    "        temp_mode = mode(df[column].tolist())\n",
    "        df[column] = df[column].fillna(temp_mode)\n",
    "\n",
    "    return df\n",
    "\n",
    "df_factory = replace_nan_with_mode_factory(df_factory)"
   ]
  },
  {
   "cell_type": "code",
   "execution_count": 10,
   "metadata": {},
   "outputs": [],
   "source": [
    "#Funcion para remplazar valores nulos con la moda de cada columna\n",
    "def replace_nan_with_mode_falabella(df):\n",
    "    df.precio_oferta = df.precio_oferta.fillna(df.precio_oferta.mean())\n",
    "    temp_df = df[df.precio_normal.notnull()]\n",
    "    variation_price = mode((temp_df.precio_normal - temp_df.precio_oferta))\n",
    "  \n",
    "    temp_nan_df = df[df.precio_normal.isnull()]\n",
    "    for i in temp_nan_df.index:\n",
    "        df.loc[i,'precio_normal'] = df.loc[i,'precio_oferta'] + variation_price\n",
    "\n",
    "    for i in df.index:\n",
    "        if df.loc[i,'precio_oferta'] > df.loc[i,'precio_normal']:\n",
    "            df.loc[i,'precio_normal'] = df.loc[i,'precio_oferta'] + variation_price\n",
    "\n",
    "    \n",
    "    temp_df = df[df.tarjeta_grafica.notnull()]\n",
    "    graphics_mode = mode(temp_df.tarjeta_grafica)\n",
    "    temp_df1 = df[df['sistema_operativo'].notnull()]\n",
    "    system_mode = mode(temp_df1['sistema_operativo'])\n",
    "\n",
    "    for column in df.columns[:-2]:\n",
    "        if column == 'tarjeta_grafica':\n",
    "            df[column] = df[column].fillna(graphics_mode)\n",
    "  \n",
    "        if column == 'sistema_operativo':\n",
    "            df[column] = df[column].fillna(system_mode)\n",
    "\n",
    "        else:\n",
    "            df[column] = df[column].fillna(mode(df[column].tolist()))\n",
    "\n",
    "    return df\n",
    "    \n",
    "df_falabella = replace_nan_with_mode_falabella(df_falabella)"
   ]
  },
  {
   "cell_type": "code",
   "execution_count": 11,
   "metadata": {},
   "outputs": [
    {
     "output_type": "execute_result",
     "data": {
      "text/plain": [
       "compania             0\n",
       "titulo               0\n",
       "marca                0\n",
       "procesador           0\n",
       "ram                  0\n",
       "tarjeta_grafica      0\n",
       "pantalla             0\n",
       "almacenamiento       0\n",
       "sistema_operativo    0\n",
       "precio_normal        0\n",
       "precio_oferta        0\n",
       "urls                 0\n",
       "dtype: int64"
      ]
     },
     "metadata": {},
     "execution_count": 11
    }
   ],
   "source": [
    "df_factory.isnull().sum()"
   ]
  },
  {
   "cell_type": "code",
   "execution_count": 12,
   "metadata": {},
   "outputs": [
    {
     "output_type": "execute_result",
     "data": {
      "text/plain": [
       "compania             0\n",
       "titulo               0\n",
       "marca                0\n",
       "procesador           0\n",
       "ram                  0\n",
       "tarjeta_grafica      0\n",
       "pantalla             0\n",
       "almacenamiento       0\n",
       "sistema_operativo    0\n",
       "precio_normal        0\n",
       "precio_oferta        0\n",
       "urls                 0\n",
       "dtype: int64"
      ]
     },
     "metadata": {},
     "execution_count": 12
    }
   ],
   "source": [
    "df_falabella.isnull().sum()"
   ]
  },
  {
   "cell_type": "code",
   "execution_count": 13,
   "metadata": {},
   "outputs": [],
   "source": [
    "df_factory.to_csv('data/clean_pcfactory.csv',index=False)\n",
    "df_falabella.to_csv('data/clean_falabella.csv',index=False)"
   ]
  }
 ]
}